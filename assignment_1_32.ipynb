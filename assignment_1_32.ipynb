{
  "nbformat": 4,
  "nbformat_minor": 0,
  "metadata": {
    "colab": {
      "provenance": [],
      "collapsed_sections": [
        "eNQNkt9ZeTpc",
        "rb7pGyBEe0L5",
        "HpMRfTG5UIpN",
        "fVywU3mE2oxz",
        "xhGjuiLbl4De",
        "hjBgR4MaQPxv",
        "OrcRB_x0Qh1Z",
        "YPNUVru1SYnS",
        "UuPjjTLzudmp",
        "j8rjNx79S7GK",
        "_aEl4YveW3wS",
        "gqxSLjEKmamY",
        "ukZI8C-W2ump",
        "22wXTcOgu11i",
        "_HJJHqS5kG1f",
        "i-hz1XAqe6K_",
        "PYqBjiM2QcIj"
      ]
    },
    "kernelspec": {
      "name": "python3",
      "display_name": "Python 3"
    },
    "language_info": {
      "name": "python"
    }
  },
  "cells": [
    {
      "cell_type": "markdown",
      "source": [
        "<h1><center>DSA 4212: Year 2022</center></h1>\n",
        "\n",
        "<h4><center> Group Number: 32  </center></h4>\n",
        "<h4><center> Group Member 1: Cui Guangyu, A0204843J </center></h4>\n",
        "<h4><center> Group Member 2: Wong Zea Teng, A0204680L </center></h4>\n",
        "<h4><center> Group Member 3: Zheng Jingwen, A0205034X </center></h4>\n"
      ],
      "metadata": {
        "id": "3f9fIm5ibVI_"
      }
    },
    {
      "cell_type": "markdown",
      "source": [
        "# Loading Libraries"
      ],
      "metadata": {
        "id": "eNQNkt9ZeTpc"
      }
    },
    {
      "cell_type": "code",
      "source": [
        "import imageio\n",
        "import os\n",
        "import pandas as pd\n",
        "import time\n",
        "import cv2\n",
        "\n",
        "%matplotlib inline\n",
        "from jax.config import config\n",
        "config.update(\"jax_enable_x64\", True) # for higher accuracy\n",
        "\n",
        "import jax\n",
        "import jax.numpy as np\n",
        "\n",
        "import pylab as plt\n",
        "import numpy as onp\n",
        "\n",
        "from skimage.transform import rescale, resize, downscale_local_mean"
      ],
      "metadata": {
        "id": "NiXqYeyeeWgG"
      },
      "execution_count": null,
      "outputs": []
    },
    {
      "cell_type": "code",
      "source": [
        "from sklearn.linear_model import LogisticRegression\n",
        "from sklearn.metrics import accuracy_score, f1_score, roc_auc_score, log_loss, confusion_matrix, classification_report, roc_curve, auc"
      ],
      "metadata": {
        "id": "JY6i18Y1eabP"
      },
      "execution_count": null,
      "outputs": []
    },
    {
      "cell_type": "code",
      "source": [
        "from keras.preprocessing.image import load_img\n",
        "from keras.preprocessing.image import img_to_array\n",
        "from keras.preprocessing.image import ImageDataGenerator\n",
        "from numpy import expand_dims\n",
        "from keras.preprocessing.image import array_to_img"
      ],
      "metadata": {
        "id": "z_vnkyQPThKx"
      },
      "execution_count": null,
      "outputs": []
    },
    {
      "cell_type": "code",
      "source": [
        "onp.random.seed(4212)"
      ],
      "metadata": {
        "id": "Hcic-7ZJIGvT"
      },
      "execution_count": null,
      "outputs": []
    },
    {
      "cell_type": "markdown",
      "source": [
        "# Loading Data(pls change this)"
      ],
      "metadata": {
        "id": "rb7pGyBEe0L5"
      }
    },
    {
      "cell_type": "code",
      "source": [
        "#if needed\n",
        "from google.colab import drive\n",
        "drive.flush_and_unmount()"
      ],
      "metadata": {
        "id": "aIHXH3XKe2QM"
      },
      "execution_count": null,
      "outputs": []
    },
    {
      "cell_type": "code",
      "source": [
        "# mount the Google Drive\n",
        "from google.colab import drive\n",
        "drive.mount(\"/content/drive\")"
      ],
      "metadata": {
        "id": "jT4l-oVle6hE",
        "colab": {
          "base_uri": "https://localhost:8080/"
        },
        "outputId": "94f31584-5142-4245-e551-d104b170ba9a"
      },
      "execution_count": null,
      "outputs": [
        {
          "output_type": "stream",
          "name": "stdout",
          "text": [
            "Mounted at /content/drive\n"
          ]
        }
      ]
    },
    {
      "cell_type": "code",
      "source": [
        "# MODIFY path when necessary\n",
        "!ls /content/drive/MyDrive/DSA4212"
      ],
      "metadata": {
        "id": "F6uGGdlxe78a",
        "colab": {
          "base_uri": "https://localhost:8080/"
        },
        "outputId": "02d44978-c8c1-46b6-f7df-83bc78d17ed6"
      },
      "execution_count": null,
      "outputs": [
        {
          "output_type": "stream",
          "name": "stdout",
          "text": [
            " assignment_1_32.gdoc\t    'Copy of Feature Extraction.ipynb'\n",
            " assignment_1_celeba.ipynb  'Feature Extraction.ipynb'\n",
            " assignment1_final\t     img_celeba_small\n",
            " assignment_1_task7.ipynb    img_celeba_small.zip\n",
            " Assignment2.gdoc\t     备胎1.ipynb\n",
            " celeba.csv\t\t     备胎2.ipynb\n"
          ]
        }
      ]
    },
    {
      "cell_type": "code",
      "source": [
        "# let's unzip the data (takes a bit of time, be patient) in the same directory\n",
        "# It takes a few minutes (but only needs to be done once) -- roughly unzip 100 files per seconds\n",
        "# !unzip /content/drive/MyDrive/DSA4212/img_celeba_small.zip  -d  /content/drive/MyDrive/DSA4212"
      ],
      "metadata": {
        "id": "BHSXC8xUfBOt"
      },
      "execution_count": null,
      "outputs": []
    },
    {
      "cell_type": "code",
      "source": [
        "#let us list all the files in the image directory\n",
        "path = \"/content/drive/MyDrive/DSA4212/img_celeba_small/\"\n",
        "all_img = [f for f in os.listdir(path)\n",
        "                 if os.path.isfile(os.path.join(path, f))\n",
        "                 and f.endswith(\".jpg\")]\n",
        "\n",
        "# sort the images by alphabetical order\n",
        "# !!!! VERY IMPORTANT in order to be consistent with the labels contained in celeba.csv !!!!\n",
        "all_img.sort()\n",
        "nb_img = len(all_img)\n",
        "print(\"Number of images:\", nb_img)"
      ],
      "metadata": {
        "id": "ONDBka8nfDkZ",
        "colab": {
          "base_uri": "https://localhost:8080/"
        },
        "outputId": "0f18c3ff-7ee3-4f00-895f-c9bcb4ef6f9b"
      },
      "execution_count": null,
      "outputs": [
        {
          "output_type": "stream",
          "name": "stdout",
          "text": [
            "Number of images: 20000\n"
          ]
        }
      ]
    },
    {
      "cell_type": "code",
      "source": [
        "#load attributes csv file\n",
        "path_csv  = \"/content/drive/MyDrive/DSA4212/\"\n",
        "attribute = pd.read_csv(os.path.join(path_csv, \"celeba.csv\"))"
      ],
      "metadata": {
        "id": "i9bgyRxPfGQf"
      },
      "execution_count": null,
      "outputs": []
    },
    {
      "cell_type": "code",
      "source": [
        "#let us list all the files in the image directory\n",
        "path = \"/content/drive/MyDrive/DSA4212/img_celeba_small/\"\n",
        "all_img = [f for f in os.listdir(path)\n",
        "                 if os.path.isfile(os.path.join(path, f))\n",
        "                 and f.endswith(\".jpg\")]\n",
        "\n",
        "# sort the images by alphabetical order\n",
        "# !!!! VERY IMPORTANT in order to be consistent with the labels contained in celeba.csv !!!!\n",
        "all_img.sort()\n",
        "nb_img = len(all_img)\n",
        "print(\"Number of images:\", nb_img)\n",
        "\n",
        "#let us keep only the relevant attributes\n",
        "attribute = attribute[:20000]"
      ],
      "metadata": {
        "id": "0sUYEYL3fJ1Z",
        "colab": {
          "base_uri": "https://localhost:8080/"
        },
        "outputId": "519f6a8a-1d7e-4309-8841-4a8eeb52e886"
      },
      "execution_count": null,
      "outputs": [
        {
          "output_type": "stream",
          "name": "stdout",
          "text": [
            "Number of images: 20000\n"
          ]
        }
      ]
    },
    {
      "cell_type": "markdown",
      "metadata": {
        "id": "A3Gs0mHw2idA"
      },
      "source": [
        "# Baseline model: Logistic Regression with black and white, resolution 100x100\n",
        "\n"
      ]
    },
    {
      "cell_type": "code",
      "execution_count": null,
      "metadata": {
        "id": "q8U5kcbcZCJm"
      },
      "outputs": [],
      "source": [
        "train_img_array = onp.zeros((15000, 100,100))\n",
        "for k in range(15000):\n",
        "    im = imageio.imread(os.path.join(path, all_img[k])).astype(float)\n",
        "    im = resize(im, (100,100) )\n",
        "    im = onp.mean(im, axis=2)\n",
        "    train_img_array[k,:,:] = im\n",
        "test_img_array = onp.zeros((5000, 100,100))\n",
        "for l in range(15000,20000):\n",
        "    im2 = imageio.imread(os.path.join(path, all_img[l])).astype(float)\n",
        "    im2 = resize(im2, (100,100) )\n",
        "    im2 = onp.mean(im2, axis=2)\n",
        "    test_img_array[l-15000,:,:] = im2"
      ]
    },
    {
      "cell_type": "code",
      "execution_count": null,
      "metadata": {
        "id": "MrxP5Wewh4HV"
      },
      "outputs": [],
      "source": [
        "y_train=[]\n",
        "for k in range(15000):\n",
        "   y_train.insert(k,attribute[\"Male\"][k])\n",
        "y_train=np.asarray(y_train)"
      ]
    },
    {
      "cell_type": "code",
      "execution_count": null,
      "metadata": {
        "id": "8ALOpStTihcZ"
      },
      "outputs": [],
      "source": [
        "y_test=[]\n",
        "for l in range(15000,20000):\n",
        "  y_test.insert(l,attribute[\"Male\"][l])\n",
        "y_test=np.asarray(y_test)"
      ]
    },
    {
      "cell_type": "code",
      "execution_count": null,
      "metadata": {
        "id": "cap53AAOj1yE"
      },
      "outputs": [],
      "source": [
        "number_of_train = train_img_array.shape[0]\n",
        "x_train_flatten = train_img_array.reshape(number_of_train,train_img_array.shape[1]*train_img_array.shape[2])"
      ]
    },
    {
      "cell_type": "code",
      "execution_count": null,
      "metadata": {
        "id": "AWoYkCGkkxYI"
      },
      "outputs": [],
      "source": [
        "number_of_test = test_img_array.shape[0]\n",
        "x_test_flatten = test_img_array.reshape(number_of_test,test_img_array.shape[1]*test_img_array.shape[2])"
      ]
    },
    {
      "cell_type": "code",
      "execution_count": null,
      "metadata": {
        "id": "B9P117FpnDXD"
      },
      "outputs": [],
      "source": [
        "x_train = x_train_flatten\n",
        "x_test = x_test_flatten\n",
        "y_test = y_test.T\n",
        "y_train = y_train.T"
      ]
    },
    {
      "cell_type": "code",
      "execution_count": null,
      "metadata": {
        "colab": {
          "base_uri": "https://localhost:8080/"
        },
        "id": "7kCdAMVDn7Mn",
        "outputId": "01f33a5d-807b-4b4b-b42a-72972bc02ad3"
      },
      "outputs": [
        {
          "output_type": "execute_result",
          "data": {
            "text/plain": [
              "(15000, 10000)"
            ]
          },
          "metadata": {},
          "execution_count": 93
        }
      ],
      "source": [
        "x_train_flatten.shape"
      ]
    },
    {
      "cell_type": "code",
      "execution_count": null,
      "metadata": {
        "colab": {
          "base_uri": "https://localhost:8080/"
        },
        "id": "isoRozugoiDO",
        "outputId": "cdb865de-825a-4b97-cbac-7991a9e4603e"
      },
      "outputs": [
        {
          "output_type": "execute_result",
          "data": {
            "text/plain": [
              "(15000,)"
            ]
          },
          "metadata": {},
          "execution_count": 94
        }
      ],
      "source": [
        "y_train.shape"
      ]
    },
    {
      "cell_type": "code",
      "execution_count": null,
      "metadata": {
        "id": "DRuwPNXfVZdV"
      },
      "outputs": [],
      "source": [
        "logreg = LogisticRegression(fit_intercept = False, C = 1)"
      ]
    },
    {
      "cell_type": "code",
      "execution_count": null,
      "metadata": {
        "colab": {
          "base_uri": "https://localhost:8080/"
        },
        "id": "sPhKckIKWAI-",
        "outputId": "91f93cc6-dabd-48ec-effa-0cd1d1dbfc8a"
      },
      "outputs": [
        {
          "output_type": "stream",
          "name": "stderr",
          "text": [
            "/usr/local/lib/python3.7/dist-packages/sklearn/linear_model/_logistic.py:818: ConvergenceWarning: lbfgs failed to converge (status=1):\n",
            "STOP: TOTAL NO. of ITERATIONS REACHED LIMIT.\n",
            "\n",
            "Increase the number of iterations (max_iter) or scale the data as shown in:\n",
            "    https://scikit-learn.org/stable/modules/preprocessing.html\n",
            "Please also refer to the documentation for alternative solver options:\n",
            "    https://scikit-learn.org/stable/modules/linear_model.html#logistic-regression\n",
            "  extra_warning_msg=_LOGISTIC_SOLVER_CONVERGENCE_MSG,\n"
          ]
        }
      ],
      "source": [
        "model_log = logreg.fit(x_train, y_train)"
      ]
    },
    {
      "cell_type": "code",
      "execution_count": null,
      "metadata": {
        "colab": {
          "base_uri": "https://localhost:8080/"
        },
        "id": "xrclmdpeo0qa",
        "outputId": "d421aee3-fb84-4b7c-fdde-42f901793024"
      },
      "outputs": [
        {
          "output_type": "stream",
          "name": "stdout",
          "text": [
            "====================Train=============================\n",
            "0.9287333333333333 0.9255467937631054\n",
            "              precision    recall  f1-score   support\n",
            "\n",
            "          -1       0.93      0.95      0.94      8668\n",
            "           1       0.92      0.91      0.91      6332\n",
            "\n",
            "    accuracy                           0.93     15000\n",
            "   macro avg       0.93      0.93      0.93     15000\n",
            "weighted avg       0.93      0.93      0.93     15000\n",
            "\n",
            "[[8200  468]\n",
            " [ 601 5731]]\n",
            "====================Test=============================\n",
            "0.9054 0.9008932866211139\n",
            "              precision    recall  f1-score   support\n",
            "\n",
            "          -1       0.91      0.93      0.92      2901\n",
            "           1       0.90      0.87      0.89      2099\n",
            "\n",
            "    accuracy                           0.91      5000\n",
            "   macro avg       0.90      0.90      0.90      5000\n",
            "weighted avg       0.91      0.91      0.91      5000\n",
            "\n",
            "[[2695  206]\n",
            " [ 267 1832]]\n"
          ]
        }
      ],
      "source": [
        "y_train_pred = logreg.predict(x_train)\n",
        "y_test_pred = logreg.predict(x_test)\n",
        "print(\"====================Train=============================\")\n",
        "mnb_score = accuracy_score(y_train, y_train_pred)\n",
        "auc_score = roc_auc_score(y_train,y_train_pred)\n",
        "print(mnb_score, auc_score)\n",
        "print(classification_report(y_train, y_train_pred))\n",
        "print(confusion_matrix(y_train, y_train_pred))\n",
        "print(\"====================Test=============================\")\n",
        "mnb_score = accuracy_score(y_test, y_test_pred)\n",
        "auc_score = roc_auc_score(y_test,y_test_pred)\n",
        "print(mnb_score, auc_score)\n",
        "print(classification_report(y_test, y_test_pred))\n",
        "print(confusion_matrix(y_test, y_test_pred))"
      ]
    },
    {
      "cell_type": "markdown",
      "source": [
        "# Feature Explorations"
      ],
      "metadata": {
        "id": "HpMRfTG5UIpN"
      }
    },
    {
      "cell_type": "markdown",
      "metadata": {
        "id": "fVywU3mE2oxz"
      },
      "source": [
        "## Logistic regression with varying training size"
      ]
    },
    {
      "cell_type": "code",
      "execution_count": null,
      "metadata": {
        "id": "c0ldqw0nBNyP"
      },
      "outputs": [],
      "source": [
        "x_train_full = onp.zeros((15000, 100, 100))\n",
        "for k in range(15000):\n",
        "  im = imageio.imread(os.path.join(path, all_img[k])).astype(float)\n",
        "  im = resize(im, (100,100) )\n",
        "  im = onp.mean(im, axis=2)\n",
        "  x_train_full[k,:,:] = im\n",
        "\n",
        "x_test_full = onp.zeros((5000, 100,100))\n",
        "for l in range(15000,20000):\n",
        "  im2 = imageio.imread(os.path.join(path, all_img[l])).astype(float)\n",
        "  im2 = resize(im2, (100,100) )\n",
        "  im2 = onp.mean(im2, axis=2)\n",
        "  x_test_full[l-15000,:,:] = im2\n",
        "\n",
        "y_train_full=[]\n",
        "for k in range(15000):\n",
        "  y_train_full.insert(k,attribute[\"Male\"][k])\n",
        "y_train_full = np.asarray(y_train_full)\n",
        "\n",
        "y_test_full=[]\n",
        "for l in range(15000,20000):\n",
        "  y_test_full.insert(l,attribute[\"Male\"][l])\n",
        "y_test_full = np.asarray(y_test_full)"
      ]
    },
    {
      "cell_type": "code",
      "execution_count": null,
      "metadata": {
        "id": "tbVh122PsOMI"
      },
      "outputs": [],
      "source": [
        "def logreg_train(size = 15000, x_ = x_train_full, y_ = y_train_full,  x_test_ = x_test_full, y_test_ = y_test_full):\n",
        "  y_train_= y_train_full[:size]\n",
        "\n",
        "  x_train_ = x_[:size]\n",
        "  number_of_train = x_train_.shape[0]\n",
        "  x_train_flatten = x_train_.reshape(number_of_train,x_train_.shape[1]*x_train_.shape[2])\n",
        "\n",
        "  number_of_test = x_test_.shape[0]\n",
        "  x_test_flatten = x_test_.reshape(number_of_test,x_test_.shape[1]*x_test_.shape[2])\n",
        "  x_train = x_train_flatten\n",
        "  x_test = x_test_flatten\n",
        "  y_test_ = y_test_full.T\n",
        "  y_train_ = y_train_.T\n",
        "\n",
        "  logregg = LogisticRegression(fit_intercept = False, C = 1, max_iter = 5000, solver = 'liblinear')\n",
        "\n",
        "  model_log = logregg.fit(x_train, y_train_)\n",
        "  y_test_pred = logregg.predict(x_test)\n",
        "  accuracy = accuracy_score(y_test_, y_test_pred)\n",
        "  return accuracy"
      ]
    },
    {
      "cell_type": "code",
      "execution_count": null,
      "metadata": {
        "id": "Felj8zTHwPff"
      },
      "outputs": [],
      "source": [
        "train_sizes = list(range(1000, 15001, 1000))"
      ]
    },
    {
      "cell_type": "code",
      "execution_count": null,
      "metadata": {
        "id": "EnoavXmYwkGe"
      },
      "outputs": [],
      "source": [
        "accuracy = []\n",
        "for i in train_sizes:\n",
        "  accuracy.append(logreg_train(size = i))"
      ]
    },
    {
      "cell_type": "code",
      "execution_count": null,
      "metadata": {
        "id": "yxaipl2IwtSd"
      },
      "outputs": [],
      "source": [
        "plt.plot(train_sizes,accuracy)\n",
        "plt.title('Test Accuracy VS Training size')\n",
        "plt.xlabel('Training size')\n",
        "plt.ylabel('Test Accuracy')\n",
        "#plt.ylim([0.8,0.9])\n",
        "plt.show()"
      ]
    },
    {
      "cell_type": "code",
      "source": [],
      "metadata": {
        "id": "8R-vzPBpImdZ"
      },
      "execution_count": null,
      "outputs": []
    },
    {
      "cell_type": "markdown",
      "metadata": {
        "id": "xhGjuiLbl4De"
      },
      "source": [
        "## Logreg with varying resolution"
      ]
    },
    {
      "cell_type": "code",
      "source": [
        "y_train=[]\n",
        "for k in range(6000):\n",
        "   y_train.insert(k,attribute[\"Male\"][k])\n",
        "y_train=np.asarray(y_train)\n",
        "\n",
        "y_test=[]\n",
        "for l in range(18000,20000):\n",
        "  y_test.insert(l,attribute[\"Male\"][l])\n",
        "y_test=np.asarray(y_test)"
      ],
      "metadata": {
        "id": "dBjgdT1w9E3_"
      },
      "execution_count": null,
      "outputs": []
    },
    {
      "cell_type": "code",
      "execution_count": null,
      "metadata": {
        "id": "7R665Hd0mDsb"
      },
      "outputs": [],
      "source": [
        "def logreg_train_res(y_ = y_train, y_test_ = y_test, resolution = 100): #y values are the same\n",
        "\n",
        "  x_train_ = onp.zeros((6000, resolution,resolution))\n",
        "  for k in range(6000):\n",
        "      im = imageio.imread(os.path.join(path, all_img[k])).astype(float)\n",
        "      im = resize(im, (resolution,resolution) )\n",
        "      im = onp.mean(im, axis=2)\n",
        "      x_train_[k,:,:] = im\n",
        "\n",
        "  x_test_ = onp.zeros((2000, resolution,resolution))\n",
        "  for l in range(18000,20000):\n",
        "      im2 = imageio.imread(os.path.join(path, all_img[l])).astype(float)\n",
        "      im2 = resize(im2, (resolution,resolution) )\n",
        "      im2 = onp.mean(im2, axis=2)\n",
        "      x_test_[l-18000,:,:] = im2\n",
        "\n",
        "  number_of_train = x_train_.shape[0]\n",
        "  x_train_flatten = x_train_.reshape(number_of_train,x_train_.shape[1]*x_train_.shape[2])\n",
        "\n",
        "  number_of_test = x_test_.shape[0]\n",
        "  x_test_flatten = x_test_.reshape(number_of_test,x_test_.shape[1]*x_test_.shape[2])\n",
        "  x_train = x_train_flatten\n",
        "  x_test = x_test_flatten\n",
        "  y_test_ = y_test_.T\n",
        "  y_train_ = y_.T\n",
        "\n",
        "  logregg = LogisticRegression(fit_intercept = False, C = 1, max_iter = 5000, solver = 'liblinear')\n",
        "\n",
        "  model_log = logregg.fit(x_train, y_train_)\n",
        "  y_test_pred = logregg.predict(x_test)\n",
        "  accuracy = accuracy_score(y_test_, y_test_pred)\n",
        "  return accuracy"
      ]
    },
    {
      "cell_type": "code",
      "execution_count": null,
      "metadata": {
        "id": "THjETINChSrh"
      },
      "outputs": [],
      "source": [
        "resolution = list(range(25, 178, 25))\n",
        "acc = []"
      ]
    },
    {
      "cell_type": "code",
      "source": [
        "for i in resolution:\n",
        "  acc.append(logreg_train_res(resolution = i))"
      ],
      "metadata": {
        "id": "lkX23pno9hOv"
      },
      "execution_count": null,
      "outputs": []
    },
    {
      "cell_type": "code",
      "source": [
        "plt.plot(resolution,acc)\n",
        "plt.title('Image Resolution VS Training size')\n",
        "plt.xlabel('Image Resolution')\n",
        "plt.ylabel('Test Accuracy')\n",
        "#plt.ylim([0.8,0.9])\n",
        "plt.show()"
      ],
      "metadata": {
        "id": "I4ymz0gt9rDB"
      },
      "execution_count": null,
      "outputs": []
    },
    {
      "cell_type": "markdown",
      "source": [
        "## Logistic Regressions with colored scale and increasing contrasts"
      ],
      "metadata": {
        "id": "hjBgR4MaQPxv"
      }
    },
    {
      "cell_type": "code",
      "source": [
        "logreg = LogisticRegression(fit_intercept = False, C = 1, max_iter = 5000)\n",
        "\n",
        "train_img_array = onp.zeros((15000, 100,100,3))\n",
        "for k in range(15000):\n",
        "    im = imageio.imread(os.path.join(path, all_img[k])).astype(float)\n",
        "    im = resize(im, (100,100))\n",
        "    train_img_array[k,:,:,:] = im\n",
        "test_img_array = onp.zeros((5000, 100,100,3))\n",
        "for l in range(15000,20000):\n",
        "    im2 = imageio.imread(os.path.join(path, all_img[l])).astype(float)\n",
        "    im2 = resize(im2, (100,100) )\n",
        "    test_img_array[l-15000,:,:,:] = im2\n",
        "\n",
        "y_train=[]\n",
        "for k in range(15000):\n",
        "  y_train.insert(k,attribute[\"Male\"][k])\n",
        "y_train=np.asarray(y_train)\n",
        "\n",
        "y_test=[]\n",
        "for l in range(15000,20000):\n",
        "  y_test.insert(l,attribute[\"Male\"][l])\n",
        "y_test=np.asarray(y_test)\n",
        "\n",
        "number_of_train = train_img_array.shape[0]\n",
        "x_train_flatten = train_img_array.reshape(number_of_train,train_img_array.shape[1]*train_img_array.shape[2]*3)\n",
        "\n",
        "number_of_test = test_img_array.shape[0]\n",
        "x_test_flatten = test_img_array.reshape(number_of_test,test_img_array.shape[1]*test_img_array.shape[2]*3)\n",
        "\n",
        "x_train = x_train_flatten\n",
        "x_test = x_test_flatten\n",
        "y_test = y_test.T\n",
        "y_train = y_train.T\n",
        "\n",
        "model_log = logreg.fit(x_train, y_train)\n",
        "\n",
        "y_train_pred = logreg.predict(x_train)\n",
        "y_test_pred = logreg.predict(x_test)\n",
        "print(\"====================Train=============================\")\n",
        "mnb_score = accuracy_score(y_train, y_train_pred)\n",
        "auc_score = roc_auc_score(y_train,y_train_pred)\n",
        "print(mnb_score, auc_score)\n",
        "print(classification_report(y_train, y_train_pred))\n",
        "print(confusion_matrix(y_train, y_train_pred))\n",
        "print(\"====================Test=============================\")\n",
        "mnb_score = accuracy_score(y_test, y_test_pred)\n",
        "auc_score = roc_auc_score(y_test,y_test_pred)\n",
        "print(mnb_score, auc_score)\n",
        "print(classification_report(y_test, y_test_pred))\n",
        "print(confusion_matrix(y_test, y_test_pred))"
      ],
      "metadata": {
        "id": "spsJEF5JfwoO",
        "colab": {
          "base_uri": "https://localhost:8080/"
        },
        "outputId": "8e5203f8-c44c-42a2-937d-e3e24d819e2e"
      },
      "execution_count": null,
      "outputs": [
        {
          "output_type": "stream",
          "name": "stderr",
          "text": [
            "WARNING:absl:No GPU/TPU found, falling back to CPU. (Set TF_CPP_MIN_LOG_LEVEL=0 and rerun for more info.)\n"
          ]
        },
        {
          "output_type": "stream",
          "name": "stdout",
          "text": [
            "====================Train=============================\n",
            "1.0 1.0\n",
            "              precision    recall  f1-score   support\n",
            "\n",
            "          -1       1.00      1.00      1.00      8668\n",
            "           1       1.00      1.00      1.00      6332\n",
            "\n",
            "    accuracy                           1.00     15000\n",
            "   macro avg       1.00      1.00      1.00     15000\n",
            "weighted avg       1.00      1.00      1.00     15000\n",
            "\n",
            "[[8668    0]\n",
            " [   0 6332]]\n",
            "====================Test=============================\n",
            "0.914 0.9108069879141738\n",
            "              precision    recall  f1-score   support\n",
            "\n",
            "          -1       0.92      0.93      0.93      2901\n",
            "           1       0.90      0.89      0.90      2099\n",
            "\n",
            "    accuracy                           0.91      5000\n",
            "   macro avg       0.91      0.91      0.91      5000\n",
            "weighted avg       0.91      0.91      0.91      5000\n",
            "\n",
            "[[2700  201]\n",
            " [ 229 1870]]\n"
          ]
        }
      ]
    },
    {
      "cell_type": "markdown",
      "source": [
        "## Logistic Regression with increasing contrasts for black and white images"
      ],
      "metadata": {
        "id": "OrcRB_x0Qh1Z"
      }
    },
    {
      "cell_type": "code",
      "source": [
        "def contrast(img,c,b):\n",
        "  rows,cols,chunnel = img.shape\n",
        "  blank = onp.zeros([rows,cols,chunnel],img.dtype)\n",
        "  dst = cv2.addWeighted(img, c, blank, 1-c, b)\n",
        "  return dst"
      ],
      "metadata": {
        "id": "OZ4aVVDgRdLl"
      },
      "execution_count": null,
      "outputs": []
    },
    {
      "cell_type": "code",
      "source": [
        "logreg = LogisticRegression(fit_intercept = False, solver = 'liblinear', C = 1, max_iter = 3000)\n",
        "\n",
        "def predict_by_diff_contrast_bw(x):\n",
        "  train_img_array = onp.zeros((6000, 100,100))\n",
        "  for k in range(6000):\n",
        "      im = imageio.imread(os.path.join(path, all_img[k])).astype(float)\n",
        "      im = resize(im, (100,100) )\n",
        "      im = contrast(im,x,0)\n",
        "      im = onp.mean(im, axis=2)\n",
        "      train_img_array[k,:,:] = im\n",
        "  test_img_array = onp.zeros((2000, 100,100))\n",
        "  for l in range(18000,20000):\n",
        "      im2 = imageio.imread(os.path.join(path, all_img[l])).astype(float)\n",
        "      im2 = resize(im2, (100,100) )\n",
        "      im2 = contrast(im2,x,0)\n",
        "      im2 = onp.mean(im2, axis=2)\n",
        "      test_img_array[l-18000,:,:] = im2\n",
        "\n",
        "  y_train=[]\n",
        "  for k in range(6000):\n",
        "    y_train.insert(k,attribute[\"Male\"][k])\n",
        "  y_train=np.asarray(y_train)\n",
        "\n",
        "  y_test=[]\n",
        "  for l in range(18000,20000):\n",
        "    y_test.insert(l,attribute[\"Male\"][l])\n",
        "  y_test=np.asarray(y_test)\n",
        "\n",
        "  number_of_train = train_img_array.shape[0]\n",
        "  x_train_flatten = train_img_array.reshape(number_of_train,train_img_array.shape[1]*train_img_array.shape[2])\n",
        "\n",
        "  number_of_test = test_img_array.shape[0]\n",
        "  x_test_flatten = test_img_array.reshape(number_of_test,test_img_array.shape[1]*test_img_array.shape[2])\n",
        "\n",
        "  x_train = x_train_flatten\n",
        "  x_test = x_test_flatten\n",
        "  y_test = y_test.T\n",
        "  y_train = y_train.T\n",
        "\n",
        "  model_log = logreg.fit(x_train, y_train)\n",
        "\n",
        "  y_train_pred = logreg.predict(x_train)\n",
        "  y_test_pred = logreg.predict(x_test)\n",
        "  mnb_score = accuracy_score(y_train, y_train_pred)\n",
        "  auc_score = roc_auc_score(y_train,y_train_pred)\n",
        "  accuracy = accuracy_score(y_test, y_test_pred)\n",
        "  auc_score_test = roc_auc_score(y_test,y_test_pred)\n",
        "\n",
        "  return accuracy"
      ],
      "metadata": {
        "id": "q6sbD-nZRnjd"
      },
      "execution_count": null,
      "outputs": []
    },
    {
      "cell_type": "code",
      "source": [
        "contrast_list = [0.5,0.75,1.0,1.5,2.0,2.5,3.0,3.5,4.0]\n",
        "accuracy_contrast_bw =[]\n",
        "for i in contrast_list:\n",
        "  accuracy_contrast_bw.append(predict_by_diff_contrast_bw(i))"
      ],
      "metadata": {
        "id": "EHqYI_T8RuCI"
      },
      "execution_count": null,
      "outputs": []
    },
    {
      "cell_type": "code",
      "source": [
        "plt.plot(contrast_list,accuracy_contrast_bw)\n",
        "plt.title('Test Accuracy VS Contrast')\n",
        "plt.xlabel('Contrast')\n",
        "plt.ylabel('Test Accuracy')\n",
        "plt.show()"
      ],
      "metadata": {
        "id": "9v4Q4avDRyKs",
        "colab": {
          "base_uri": "https://localhost:8080/",
          "height": 295
        },
        "outputId": "f3459706-8884-424c-a2b4-f8915544d492"
      },
      "execution_count": null,
      "outputs": [
        {
          "output_type": "display_data",
          "data": {
            "text/plain": [
              "<Figure size 432x288 with 1 Axes>"
            ],
            "image/png": "[encoded data removed]"
          },
          "metadata": {
            "needs_background": "light"
          }
        }
      ]
    },
    {
      "cell_type": "markdown",
      "source": [
        "## Logistic Regression with increasing contrasts for colored images"
      ],
      "metadata": {
        "id": "YPNUVru1SYnS"
      }
    },
    {
      "cell_type": "code",
      "source": [
        "logreg = LogisticRegression(fit_intercept = False, solver = 'liblinear', C = 1, max_iter = 3000)\n",
        "\n",
        "def predict_by_diff_contrast(x):\n",
        "  train_img_array = onp.zeros((6000, 100,100,3))\n",
        "  for k in range(6000):\n",
        "      im = imageio.imread(os.path.join(path, all_img[k])).astype(float)\n",
        "      im = resize(im, (100,100) )\n",
        "      im = contrast(im,x,0)\n",
        "      train_img_array[k,:,:,:] = im\n",
        "  test_img_array = onp.zeros((2000, 100,100,3))\n",
        "  for l in range(18000,20000):\n",
        "      im2 = imageio.imread(os.path.join(path, all_img[l])).astype(float)\n",
        "      im2 = resize(im2, (100,100) )\n",
        "      im2 = contrast(im2,x,0)\n",
        "      test_img_array[l-18000,:,:,:] = im2\n",
        "\n",
        "  y_train=[]\n",
        "  for k in range(6000):\n",
        "    y_train.insert(k,attribute[\"Male\"][k])\n",
        "  y_train=np.asarray(y_train)\n",
        "\n",
        "  y_test=[]\n",
        "  for l in range(18000,20000):\n",
        "    y_test.insert(l,attribute[\"Male\"][l])\n",
        "  y_test=np.asarray(y_test)\n",
        "\n",
        "  number_of_train = train_img_array.shape[0]\n",
        "  x_train_flatten = train_img_array.reshape(number_of_train,train_img_array.shape[1]*train_img_array.shape[2]*3)\n",
        "\n",
        "  number_of_test = test_img_array.shape[0]\n",
        "  x_test_flatten = test_img_array.reshape(number_of_test,test_img_array.shape[1]*test_img_array.shape[2]*3)\n",
        "\n",
        "  x_train = x_train_flatten\n",
        "  x_test = x_test_flatten\n",
        "  y_test = y_test.T\n",
        "  y_train = y_train.T\n",
        "\n",
        "  model_log = logreg.fit(x_train, y_train)\n",
        "\n",
        "  y_train_pred = logreg.predict(x_train)\n",
        "  y_test_pred = logreg.predict(x_test)\n",
        "  mnb_score = accuracy_score(y_train, y_train_pred)\n",
        "  auc_score = roc_auc_score(y_train,y_train_pred)\n",
        "  accuracy = accuracy_score(y_test, y_test_pred)\n",
        "  auc_score_test = roc_auc_score(y_test,y_test_pred)\n",
        "\n",
        "  return accuracy"
      ],
      "metadata": {
        "id": "gmUpYi_kSgts"
      },
      "execution_count": null,
      "outputs": []
    },
    {
      "cell_type": "code",
      "source": [
        "contrast_list = [0.5,0.75,1.0,1.5,2.0,2.5,3.0,3.5,4.0]\n",
        "accuracy_contrast =[]\n",
        "for i in contrast_list:\n",
        "  accuracy_contrast.append(predict_by_diff_contrast(i))"
      ],
      "metadata": {
        "id": "3wQwizyASneX"
      },
      "execution_count": null,
      "outputs": []
    },
    {
      "cell_type": "code",
      "source": [
        "plt.plot(contrast_list,accuracy_contrast)\n",
        "plt.title('Test Accuracy VS Contrast')\n",
        "plt.xlabel('Contrast')\n",
        "plt.ylabel('Test Accuracy')\n",
        "plt.ylim([0.9060,0.91])\n",
        "plt.show()"
      ],
      "metadata": {
        "id": "mIXol4t1SzOw",
        "colab": {
          "base_uri": "https://localhost:8080/",
          "height": 295
        },
        "outputId": "d3a0a905-acad-41d4-9a2f-e86bdbe9f668"
      },
      "execution_count": null,
      "outputs": [
        {
          "output_type": "display_data",
          "data": {
            "text/plain": [
              "<Figure size 432x288 with 1 Axes>"
            ],
            "image/png": "[encoded data removed]"
          },
          "metadata": {
            "needs_background": "light"
          }
        }
      ]
    },
    {
      "cell_type": "markdown",
      "source": [
        "## Logistic Regression with varying brightness for b&w images"
      ],
      "metadata": {
        "id": "UuPjjTLzudmp"
      }
    },
    {
      "cell_type": "code",
      "source": [
        "def brightness(img,c,b):\n",
        "  rows,cols,chunnel = img.shape\n",
        "  blank = onp.zeros([rows,cols,chunnel],img.dtype)\n",
        "  dst = cv2.addWeighted(img, c, blank, 1-c, b)\n",
        "  return dst"
      ],
      "metadata": {
        "id": "QBFQMe8JuqQb"
      },
      "execution_count": null,
      "outputs": []
    },
    {
      "cell_type": "code",
      "source": [
        "logreg = LogisticRegression(fit_intercept = False, solver = 'liblinear', C = 1, max_iter = 3000)\n",
        "\n",
        "def predict_by_diff_brightness_bw(x):\n",
        "  train_img_array = onp.zeros((4000, 100,100))\n",
        "  for k in range(4000):\n",
        "      im = imageio.imread(os.path.join(path, all_img[k])).astype(float)\n",
        "      im = resize(im, (100,100) )\n",
        "      im = brightness(im,1.0,x)\n",
        "      im = onp.mean(im, axis=2)\n",
        "      train_img_array[k,:,:] = im\n",
        "  test_img_array = onp.zeros((2000, 100,100))\n",
        "  for l in range(18000,20000):\n",
        "      im2 = imageio.imread(os.path.join(path, all_img[l])).astype(float)\n",
        "      im2 = resize(im2, (100,100) )\n",
        "      im2 = brightness(im2,1.0,x)\n",
        "      im2 = onp.mean(im2, axis=2)\n",
        "      test_img_array[l-18000,:,:] = im2\n",
        "\n",
        "  y_train=[]\n",
        "  for k in range(4000):\n",
        "    y_train.insert(k,attribute[\"Male\"][k])\n",
        "  y_train=np.asarray(y_train)\n",
        "\n",
        "  y_test=[]\n",
        "  for l in range(18000,20000):\n",
        "    y_test.insert(l,attribute[\"Male\"][l])\n",
        "  y_test=np.asarray(y_test)\n",
        "\n",
        "  number_of_train = train_img_array.shape[0]\n",
        "  x_train_flatten = train_img_array.reshape(number_of_train,train_img_array.shape[1]*train_img_array.shape[2])\n",
        "\n",
        "  number_of_test = test_img_array.shape[0]\n",
        "  x_test_flatten = test_img_array.reshape(number_of_test,test_img_array.shape[1]*test_img_array.shape[2])\n",
        "\n",
        "  x_train = x_train_flatten\n",
        "  x_test = x_test_flatten\n",
        "  y_test = y_test.T\n",
        "  y_train = y_train.T\n",
        "\n",
        "  model_log = logreg.fit(x_train, y_train)\n",
        "\n",
        "  y_train_pred = logreg.predict(x_train)\n",
        "  y_test_pred = logreg.predict(x_test)\n",
        "  mnb_score = accuracy_score(y_train, y_train_pred)\n",
        "  auc_score = roc_auc_score(y_train,y_train_pred)\n",
        "  accuracy = accuracy_score(y_test, y_test_pred)\n",
        "  auc_score_test = roc_auc_score(y_test,y_test_pred)\n",
        "\n",
        "  return accuracy"
      ],
      "metadata": {
        "id": "gakA_g0Suwcs"
      },
      "execution_count": null,
      "outputs": []
    },
    {
      "cell_type": "code",
      "source": [
        "brightness_list = [-100,-75,-50,-25,0,25,50,75,100]\n",
        "accuracy_brightness_bw =[]\n",
        "for i in brightness_list:\n",
        "  accuracy_brightness_bw.append(predict_by_diff_brightness_bw(i))"
      ],
      "metadata": {
        "id": "KH2C50L2vc0P"
      },
      "execution_count": null,
      "outputs": []
    },
    {
      "cell_type": "code",
      "source": [
        "plt.plot(brightness_list,accuracy_brightness_bw)\n",
        "plt.title('Test Accuracy VS Brightness')\n",
        "plt.xlabel('Brightness')\n",
        "plt.ylabel('Test Accuracy')\n",
        "plt.show()"
      ],
      "metadata": {
        "id": "F5IMBFW8vf3p",
        "colab": {
          "base_uri": "https://localhost:8080/",
          "height": 295
        },
        "outputId": "034bc10a-6b6a-433b-e691-c1e210290b6f"
      },
      "execution_count": null,
      "outputs": [
        {
          "output_type": "display_data",
          "data": {
            "text/plain": [
              "<Figure size 432x288 with 1 Axes>"
            ],
            "image/png": "[encoded data removed]"
          },
          "metadata": {
            "needs_background": "light"
          }
        }
      ]
    },
    {
      "cell_type": "markdown",
      "source": [
        "## Logistic Regressions with different areas"
      ],
      "metadata": {
        "id": "j8rjNx79S7GK"
      }
    },
    {
      "cell_type": "code",
      "source": [
        "logreg = LogisticRegression(fit_intercept = False, solver = 'liblinear', C = 1, max_iter = 5000)\n",
        "\n",
        "def predict_by_area(y1,y2,x1,x2):\n",
        "  train_img_array = onp.zeros((15000, y2-y1,x2-x1))\n",
        "  for k in range(15000):\n",
        "      im = imageio.imread(os.path.join(path, all_img[k])).astype(float)\n",
        "      im = im[y1:y2,x1:x2]\n",
        "      im = onp.mean(im, axis=2)\n",
        "      train_img_array[k,:,:] = im\n",
        "  test_img_array = onp.zeros((5000, y2-y1,x2-x1))\n",
        "  for l in range(15000,20000):\n",
        "      im2 = imageio.imread(os.path.join(path, all_img[l])).astype(float)\n",
        "      im2 = im2[y1:y2,x1:x2]\n",
        "      im2 = onp.mean(im2, axis=2)\n",
        "      test_img_array[l-15000,:,:] = im2\n",
        "\n",
        "  y_train=[]\n",
        "  for k in range(15000):\n",
        "    y_train.insert(k,attribute[\"Male\"][k])\n",
        "  y_train=np.asarray(y_train)\n",
        "\n",
        "  y_test=[]\n",
        "  for l in range(15000,20000):\n",
        "    y_test.insert(l,attribute[\"Male\"][l])\n",
        "  y_test=np.asarray(y_test)\n",
        "\n",
        "  number_of_train = train_img_array.shape[0]\n",
        "  x_train_flatten = train_img_array.reshape(number_of_train,train_img_array.shape[1]*train_img_array.shape[2])\n",
        "\n",
        "  number_of_test = test_img_array.shape[0]\n",
        "  x_test_flatten = test_img_array.reshape(number_of_test,test_img_array.shape[1]*test_img_array.shape[2])\n",
        "\n",
        "  x_train = x_train_flatten\n",
        "  x_test = x_test_flatten\n",
        "  y_test = y_test.T\n",
        "  y_train = y_train.T\n",
        "\n",
        "  model_log = logreg.fit(x_train, y_train)\n",
        "\n",
        "  y_train_pred = logreg.predict(x_train)\n",
        "  y_test_pred = logreg.predict(x_test)\n",
        "\n",
        "  mnb_score = accuracy_score(y_test, y_test_pred)\n",
        "  auc_score = roc_auc_score(y_test,y_test_pred)\n",
        "\n",
        "  return (mnb_score,auc_socre)\n"
      ],
      "metadata": {
        "id": "RBewojKOTpEt"
      },
      "execution_count": null,
      "outputs": []
    },
    {
      "cell_type": "code",
      "source": [
        "def predict_all():\n",
        "  #eyes\n",
        "  mnb_score,auc_socre = predict_by_area(105,120,50,122)\n",
        "  print(\"eyes: \"+\"Accuracy - \"+mnb_score + \"AUC - \"+auc_score)\n",
        "\n",
        "  #mouth\n",
        "  mnb_score,auc_socre = predict_by_area(142,165,60,120)\n",
        "  print(\"mouth: \"+\"Accuracy - \"+mnb_score + \"AUC - \"+auc_score)\n",
        "\n",
        "  #nose\n",
        "  mnb_score,auc_socre = predict_by_area(119,145,70,110)\n",
        "  print(\"nose: \"+\"Accuracy - \"+mnb_score + \"AUC - \"+auc_score)\n",
        "\n",
        "  #left ear\n",
        "  mnb_score,auc_socre = predict_by_area(105,140,25,55)\n",
        "  print(\"left ear: \"+\"Accuracy - \"+mnb_score + \"AUC - \"+auc_score)\n",
        "\n",
        "  #chin\n",
        "  mnb_score,auc_socre = predict_by_area(162,190,50,122)\n",
        "  print(\"chin: \"+\"Accuracy - \"+mnb_score + \"AUC - \"+auc_score)\n",
        "\n",
        "  #eyebrows\n",
        "  mnb_score,auc_socre = predict_by_area(95,109,50,122)\n",
        "  print(\"eyebrow: \"+\"Accuracy - \"+mnb_score + \"AUC - \"+auc_score)"
      ],
      "metadata": {
        "id": "Jcl-E6Lyxu1H"
      },
      "execution_count": null,
      "outputs": []
    },
    {
      "cell_type": "markdown",
      "source": [
        "\n",
        "\n",
        "\n",
        "\n",
        "\n",
        "\n",
        "\n",
        "\n",
        "\n",
        "\n",
        "\n",
        "\n",
        "\n",
        "\n",
        "\n",
        "\n",
        "\n",
        "\n",
        "\n",
        "\n",
        "\n",
        "\n",
        "\n",
        "\n",
        "\n",
        "\n",
        "\n",
        "\n",
        "\n",
        "\n",
        "\n",
        "\n",
        "\n",
        "\n",
        "\n",
        "\n",
        "\n",
        "\n",
        "\n",
        "\n",
        "\n",
        "\n",
        "\n",
        "\n",
        "\n",
        "\n",
        "\n",
        "\n",
        "\n",
        "\n",
        "\n",
        "\n",
        "\n",
        "\n",
        "\n",
        "\n",
        "\n",
        "\n",
        "\n",
        "\n",
        "\n",
        "\n",
        "\n",
        "\n",
        "\n",
        "\n",
        "\n",
        "\n",
        "\n",
        "\n",
        "\n",
        "\n",
        "\n",
        "\n",
        "\n",
        "\n",
        "\n",
        "\n",
        "\n",
        "\n",
        "\n",
        "\n",
        "\n",
        "\n",
        "\n",
        "\n",
        "\n",
        "\n",
        "\n",
        "\n",
        "\n",
        "\n",
        "\n",
        "\n",
        "\n",
        "\n",
        "\n",
        "\n",
        "\n",
        "\n",
        "\n",
        "\n",
        "\n",
        "\n",
        "\n",
        "\n",
        "\n",
        "\n",
        "\n",
        "\n",
        "\n",
        "\n",
        "\n",
        "\n",
        "\n",
        "\n",
        "\n",
        "\n",
        "\n",
        "\n",
        "\n",
        "\n",
        "\n",
        "\n",
        "\n",
        "\n",
        "\n",
        "\n",
        "\n",
        "\n",
        "\n",
        "\n",
        "\n",
        "\n",
        "\n",
        "\n",
        "\n",
        "\n",
        "\n",
        "\n",
        "\n",
        "\n",
        "\n",
        "\n",
        "\n",
        "\n",
        "\n",
        "\n",
        "\n",
        "\n",
        "\n",
        "\n",
        "\n",
        "\n",
        "\n",
        "\n",
        "\n",
        "\n",
        "\n",
        "\n",
        "\n",
        "\n",
        "\n",
        "\n",
        "\n",
        "\n",
        "\n",
        "\n",
        "\n",
        "\n",
        "\n",
        "\n",
        "\n",
        "\n",
        "\n",
        "\n",
        "\n",
        "\n",
        "\n",
        "\n",
        "\n",
        "\n",
        "\n",
        "\n",
        "\n",
        "\n",
        "\n",
        "\n",
        "\n",
        "\n",
        "\n",
        "\n",
        "\n",
        "\n",
        "\n",
        "\n",
        "\n",
        "\n",
        "\n",
        "\n",
        "\n",
        "\n",
        "\n",
        "\n",
        "\n",
        "\n",
        "\n",
        "\n",
        "\n",
        "\n",
        "\n",
        "\n",
        "\n",
        "\n",
        "\n",
        "\n",
        "\n",
        "\n",
        "\n",
        "\n",
        "\n",
        "\n",
        "\n",
        "\n",
        "\n",
        "\n",
        "\n",
        "\n",
        "\n",
        "\n",
        "\n",
        "\n",
        "\n",
        "\n",
        "\n",
        "\n",
        "\n",
        "\n",
        "\n",
        "\n",
        "\n",
        "\n",
        "\n",
        "\n",
        "\n",
        "\n",
        "\n",
        "\n",
        "\n",
        "\n",
        "\n",
        "\n",
        "\n",
        "\n",
        "\n",
        "\n",
        "\n",
        "\n",
        "\n",
        "\n",
        "\n",
        "\n",
        "\n",
        "\n",
        "\n",
        "\n",
        "\n",
        "\n",
        "\n",
        "\n",
        "\n",
        "\n",
        "\n",
        "\n",
        "\n",
        "\n",
        "\n",
        "\n",
        "\n",
        "\n",
        "\n",
        "\n",
        "\n",
        "\n",
        "\n",
        "\n",
        "\n",
        "\n",
        "\n",
        "\n",
        "\n",
        "\n",
        "\n",
        "\n",
        "\n",
        "\n",
        "\n",
        "\n",
        "\n",
        "\n",
        "\n",
        "\n",
        "\n",
        "\n",
        "\n",
        "\n",
        "\n",
        "\n",
        "\n",
        "\n",
        "\n",
        "\n",
        "\n",
        "\n",
        "\n",
        "\n",
        "\n",
        "\n",
        "\n",
        "\n",
        "\n",
        "\n",
        "\n",
        "\n",
        "\n",
        "\n",
        "\n",
        "\n",
        "\n",
        "\n",
        "\n",
        "\n",
        "\n",
        "\n",
        "\n",
        "\n",
        "\n",
        "\n",
        "\n",
        "\n",
        "\n",
        "\n",
        "\n",
        "\n",
        "\n",
        "\n",
        "\n",
        "\n",
        "\n",
        "\n",
        "\n",
        "\n",
        "\n",
        "\n",
        "\n",
        "\n",
        "\n",
        "\n",
        "\n",
        "\n",
        "\n",
        "\n",
        "\n",
        "\n",
        "\n",
        "\n",
        "\n",
        "\n",
        "\n",
        "\n",
        "\n",
        "\n",
        "\n",
        "\n",
        "\n",
        "\n",
        "\n",
        "\n",
        "\n",
        "\n",
        "\n",
        "\n",
        "\n",
        "\n",
        "\n",
        "\n",
        "\n",
        "\n",
        "\n",
        "\n",
        "\n",
        "\n",
        "\n",
        "\n",
        "\n",
        "\n",
        "\n",
        "\n",
        "\n",
        "\n",
        "\n",
        "\n",
        "\n",
        "\n",
        "\n",
        "\n",
        "\n",
        "\n",
        "\n",
        "\n",
        "\n",
        "\n",
        "\n",
        "\n",
        "\n",
        "\n",
        "\n",
        "\n",
        "\n",
        "\n",
        "\n",
        "\n",
        "\n",
        "\n",
        "\n",
        "\n",
        "\n",
        "\n",
        "\n",
        "\n",
        "\n",
        "\n",
        "\n",
        "\n",
        "\n",
        "\n",
        "\n",
        "\n",
        "\n",
        "\n",
        "\n",
        "\n",
        "\n",
        "\n",
        "\n",
        "\n",
        "\n",
        "\n",
        "\n",
        "\n",
        "\n",
        "\n",
        "\n",
        "\n",
        "\n",
        "\n",
        "\n",
        "\n",
        "\n",
        "\n",
        "\n",
        "\n",
        "\n",
        "\n",
        "\n",
        "\n",
        "\n",
        "\n",
        "\n",
        "\n",
        "\n",
        "\n",
        "\n",
        "\n",
        "\n",
        "\n",
        "\n",
        "\n",
        "\n",
        "\n",
        "\n",
        "\n",
        "\n",
        "\n",
        "\n",
        "\n",
        "\n",
        "\n",
        "\n",
        "\n",
        "\n",
        "\n",
        "\n",
        "\n",
        "\n",
        "\n",
        "\n",
        "\n",
        "\n",
        "\n",
        "\n",
        "\n",
        "\n",
        "\n",
        "\n",
        "\n",
        "\n",
        "\n",
        "\n",
        "\n",
        "\n",
        "\n",
        "\n",
        "\n",
        "\n",
        "\n",
        "\n",
        "\n",
        "\n",
        "\n",
        "\n",
        "\n",
        "\n",
        "\n",
        "\n",
        "\n",
        "\n",
        "\n",
        "\n",
        "\n",
        "\n",
        "\n",
        "\n",
        "\n",
        "\n",
        "\n",
        "\n",
        "\n",
        "\n",
        "\n",
        "\n",
        "\n",
        "\n",
        "\n",
        "\n",
        "\n",
        "\n",
        "\n",
        "\n",
        "\n",
        "\n",
        "\n",
        "\n",
        "\n",
        "\n",
        "\n",
        "\n",
        "\n",
        "\n",
        "\n",
        "\n",
        "\n",
        "\n",
        "\n",
        "\n",
        "\n",
        "\n",
        "\n",
        "\n",
        "\n",
        "\n",
        "\n",
        "\n",
        "\n",
        "\n",
        "\n",
        "\n",
        "\n",
        "\n",
        "\n",
        "\n",
        "\n",
        "\n",
        "\n",
        "\n",
        "\n",
        "\n",
        "\n",
        "\n",
        "\n",
        "\n",
        "\n",
        "\n",
        "\n",
        "\n",
        "\n",
        "\n",
        "\n",
        "\n",
        "\n",
        "\n",
        "\n",
        "\n",
        "\n",
        "\n",
        "\n",
        "\n",
        "\n",
        "\n",
        "\n",
        "\n",
        "\n",
        "\n",
        "\n",
        "\n",
        "\n",
        "\n",
        "\n",
        "\n",
        "\n",
        "\n",
        "\n",
        "\n",
        "# Ensemble of models"
      ],
      "metadata": {
        "id": "_aEl4YveW3wS"
      }
    },
    {
      "cell_type": "code",
      "execution_count": null,
      "metadata": {
        "id": "ySelHWzYhxzz"
      },
      "outputs": [],
      "source": [
        "#We used voting as the ensembling method, for demostration purpose, we use the first 200 images with 150 as training and 50 as test set, and the ensembled models\n",
        "#are eyes and eyebrow area.\n",
        "\n",
        "def predict_by_part_200(x1, x2, y1, y2):\n",
        "  train_img_array = onp.zeros((6000, y2-y1, x2-x1))\n",
        "  for k in range(6000):\n",
        "    im = imageio.imread(os.path.join(path, all_img[k])).astype(float)\n",
        "    im = im[y1:y2,x1:x2]\n",
        "    im = onp.mean(im, axis=2)\n",
        "    train_img_array[k,:,:] = im\n",
        "\n",
        "  test_img_array = onp.zeros((2000, y2-y1, x2-x1))\n",
        "  for k in range(18000, 20000):\n",
        "    im = imageio.imread(os.path.join(path, all_img[k])).astype(float)\n",
        "    im = im[y1:y2,x1:x2]\n",
        "    im = onp.mean(im, axis=2)\n",
        "    test_img_array[k-18000,:,:] = im\n",
        "\n",
        "  y_train=[]\n",
        "  for k in range(6000):\n",
        "    y_train.insert(k,attribute[\"Male\"][k])\n",
        "  y_train=np.asarray(y_train)\n",
        "\n",
        "  y_test=[]\n",
        "  for l in range(18000,20000):\n",
        "    y_test.insert(l,attribute[\"Male\"][l])\n",
        "  y_test=np.asarray(y_test)\n",
        "\n",
        "  number_of_train = train_img_array.shape[0]\n",
        "  x_train_flatten = train_img_array.reshape(number_of_train,train_img_array.shape[1]*train_img_array.shape[2])\n",
        "\n",
        "  number_of_test = test_img_array.shape[0]\n",
        "  x_test_flatten = test_img_array.reshape(number_of_test,test_img_array.shape[1]*test_img_array.shape[2])\n",
        "  x_train = x_train_flatten\n",
        "  x_test = x_test_flatten\n",
        "  y_test = y_test.T\n",
        "  y_train = y_train.T\n",
        "\n",
        "  logreg = LogisticRegression(C= 1, max_iter= 5000, solver= 'liblinear')\n",
        "  logreg.fit(x_train, y_train)\n",
        "  y_train_pred = logreg.predict(x_train)\n",
        "  y_test_pred = logreg.predict(x_test)\n",
        "  print('Training accuracy: ', accuracy_score(y_train, y_train_pred))\n",
        "  print('Training AUC: ', roc_auc_score(y_train, y_train_pred))\n",
        "  print(classification_report(y_train, y_train_pred))\n",
        "  print('Test accuracy: ', accuracy_score(y_test, y_test_pred))\n",
        "  print('Test AUC: ', roc_auc_score(y_test, y_test_pred))\n",
        "  print(classification_report(y_test, y_test_pred))\n",
        "  return"
      ]
    },
    {
      "cell_type": "code",
      "execution_count": null,
      "metadata": {
        "id": "J_nA5IRvkSwA"
      },
      "outputs": [],
      "source": [
        "#We used voting as the ensembling method, for demostration purpose, we use the first 200 images with 150 as training and 50 as test set, and the ensembled models\n",
        "#are eyes, eyebrow and mouth area models.\n",
        "\n",
        "def predict_by_part_200_result(x1, x2, y1, y2):\n",
        "  train_img_array = onp.zeros((6000, y2-y1, x2-x1))\n",
        "  for k in range(6000):\n",
        "    im = imageio.imread(os.path.join(path, all_img[k])).astype(float)\n",
        "    im = im[y1:y2,x1:x2]\n",
        "    im = onp.mean(im, axis=2)\n",
        "    train_img_array[k,:,:] = im\n",
        "\n",
        "  test_img_array = onp.zeros((2000, y2-y1, x2-x1))\n",
        "  for k in range(18000, 20000):\n",
        "    im = imageio.imread(os.path.join(path, all_img[k])).astype(float)\n",
        "    im = im[y1:y2,x1:x2]\n",
        "    im = onp.mean(im, axis=2)\n",
        "    test_img_array[k-18000,:,:] = im\n",
        "\n",
        "  y_train=[]\n",
        "  for k in range(6000):\n",
        "    y_train.insert(k,attribute[\"Male\"][k])\n",
        "  y_train=np.asarray(y_train)\n",
        "\n",
        "  y_test=[]\n",
        "  for l in range(18000,20000):\n",
        "    y_test.insert(l,attribute[\"Male\"][l])\n",
        "  y_test=np.asarray(y_test)\n",
        "\n",
        "  number_of_train = train_img_array.shape[0]\n",
        "  x_train_flatten = train_img_array.reshape(number_of_train,train_img_array.shape[1]*train_img_array.shape[2])\n",
        "\n",
        "  number_of_test = test_img_array.shape[0]\n",
        "  x_test_flatten = test_img_array.reshape(number_of_test,test_img_array.shape[1]*test_img_array.shape[2])\n",
        "  x_train = x_train_flatten\n",
        "  x_test = x_test_flatten\n",
        "  y_test = y_test.T\n",
        "  y_train = y_train.T\n",
        "\n",
        "  logreg = LogisticRegression(C= 1, max_iter= 5000, solver= 'liblinear')\n",
        "  logreg.fit(x_train, y_train)\n",
        "  y_train_pred = logreg.predict(x_train)\n",
        "  y_test_pred = logreg.predict(x_test)\n",
        "  return (y_train_pred,y_test_pred)"
      ]
    },
    {
      "cell_type": "code",
      "source": [
        "print(\"##################eye##################\")\n",
        "predict_by_part_200(50,122,105,120)\n",
        "predict_by_part_200_result(50,122,105,120)\n",
        "print(\"##################eyebrow##############\")\n",
        "predict_by_part_200(50,122,95,109)\n",
        "predict_by_part_200_result(50,122,95,109)\n",
        "print(\"##################nose##############\")\n",
        "predict_by_part_200(119,145,70,110)\n",
        "predict_by_part_200_result(119,145,70,110)"
      ],
      "metadata": {
        "id": "RfEXjhAKjI8E"
      },
      "execution_count": null,
      "outputs": []
    },
    {
      "cell_type": "code",
      "source": [
        "eye_train_pred=predict_by_part_200_result(50,122,105,120)[0]\n",
        "eye_test_pred=predict_by_part_200_result(50,122,105,120)[1]\n",
        "eyebrow_train_pred=predict_by_part_200_result(50,122,95,109)[0]\n",
        "eyebrow_test_pred=predict_by_part_200_result(50,122,95,109)[1]\n",
        "nose_train_pred=predict_by_part_200_result(119,145,70,110)[0]\n",
        "nose_test_pred=predict_by_part_200_result(119,145,70,110)[1]"
      ],
      "metadata": {
        "id": "wDjmCj1elHhp"
      },
      "execution_count": null,
      "outputs": []
    },
    {
      "cell_type": "code",
      "source": [
        "#We assign different weight to models based on their performance (accuracy).\n",
        "ensemble_train_pred=1*eye_train_pred+1*eyebrow_train_pred+1*nose_train_pred\n",
        "for i in range(0,6000):\n",
        "  if ensemble_train_pred[i]>0:\n",
        "    ensemble_train_pred[i]=1\n",
        "  else:\n",
        "    ensemble_train_pred[i]=-1\n",
        "ensemble_test_pred=0.6*eye_test_pred+0.64*eyebrow_test_pred+0.56*nose_test_pred\n",
        "for i in range(2000):\n",
        "  if ensemble_test_pred[i]>0:\n",
        "    ensemble_test_pred[i]=1\n",
        "  else:\n",
        "    ensemble_test_pred[i]=-1"
      ],
      "metadata": {
        "id": "R0pTjj2tmnVd"
      },
      "execution_count": null,
      "outputs": []
    },
    {
      "cell_type": "code",
      "source": [
        "y_train=[]\n",
        "for l in range(6000):\n",
        "  y_train.insert(l,attribute[\"Male\"][l])\n",
        "y_train=np.asarray(y_train)\n",
        "print('Train accuracy: ', accuracy_score(y_train, ensemble_train_pred))\n",
        "print('Train AUC: ', roc_auc_score(y_train, ensemble_train_pred))"
      ],
      "metadata": {
        "id": "yEik0INWBrFx"
      },
      "execution_count": null,
      "outputs": []
    },
    {
      "cell_type": "code",
      "source": [
        "y_test=[]\n",
        "for l in range(18000,20000):\n",
        "  y_test.insert(l,attribute[\"Male\"][l])\n",
        "y_test=np.asarray(y_test)\n",
        "print('Test accuracy: ', accuracy_score(y_test, ensemble_test_pred))\n",
        "print('Test AUC: ', roc_auc_score(y_test, ensemble_test_pred))"
      ],
      "metadata": {
        "id": "qiDSyj7AsgTF"
      },
      "execution_count": null,
      "outputs": []
    },
    {
      "cell_type": "markdown",
      "source": [
        "# Logistic Regression with 1% data"
      ],
      "metadata": {
        "id": "gqxSLjEKmamY"
      }
    },
    {
      "cell_type": "markdown",
      "metadata": {
        "id": "ukZI8C-W2ump"
      },
      "source": [
        "## Black & White baseline model"
      ]
    },
    {
      "cell_type": "code",
      "execution_count": null,
      "metadata": {
        "id": "otK5DZzX2yJ6"
      },
      "outputs": [],
      "source": [
        "train_img_array = onp.zeros((200, 100,100))\n",
        "for k in range(200):\n",
        "    im = imageio.imread(os.path.join(path, all_img[k])).astype(float)\n",
        "    im = resize(im, (100,100) )\n",
        "    im = onp.mean(im, axis=2)\n",
        "    train_img_array[k,:,:] = im\n",
        "test_img_array = onp.zeros((5000, 100,100))\n",
        "for l in range(15000,20000):\n",
        "    im2 = imageio.imread(os.path.join(path, all_img[l])).astype(float)\n",
        "    im2 = resize(im2, (100,100) )\n",
        "    im2 = onp.mean(im2, axis=2)\n",
        "    test_img_array[l-15000,:,:] = im2"
      ]
    },
    {
      "cell_type": "code",
      "execution_count": null,
      "metadata": {
        "id": "3kAXITHj5ewO"
      },
      "outputs": [],
      "source": [
        "y_train=[]\n",
        "for k in range(200):\n",
        "   y_train.insert(k,attribute[\"Male\"][k])\n",
        "y_train=np.asarray(y_train)"
      ]
    },
    {
      "cell_type": "code",
      "execution_count": null,
      "metadata": {
        "id": "GekqmK3a53qU"
      },
      "outputs": [],
      "source": [
        "y_test=[]\n",
        "for l in range(15000,20000):\n",
        "  y_test.insert(l,attribute[\"Male\"][l])\n",
        "y_test=np.asarray(y_test)"
      ]
    },
    {
      "cell_type": "code",
      "execution_count": null,
      "metadata": {
        "id": "Fb8y3vdc554A"
      },
      "outputs": [],
      "source": [
        "number_of_train = train_img_array.shape[0]\n",
        "x_train_flatten = train_img_array.reshape(number_of_train,train_img_array.shape[1]*train_img_array.shape[2])"
      ]
    },
    {
      "cell_type": "code",
      "execution_count": null,
      "metadata": {
        "id": "AbTO7cSm8Lu-"
      },
      "outputs": [],
      "source": [
        "number_of_test = test_img_array.shape[0]\n",
        "x_test_flatten = test_img_array.reshape(number_of_test,test_img_array.shape[1]*test_img_array.shape[2])"
      ]
    },
    {
      "cell_type": "code",
      "execution_count": null,
      "metadata": {
        "id": "55kLBYTw8NKv"
      },
      "outputs": [],
      "source": [
        "x_train = x_train_flatten\n",
        "x_test = x_test_flatten\n",
        "y_test = y_test.T\n",
        "y_train = y_train.T"
      ]
    },
    {
      "cell_type": "code",
      "source": [
        "logreg = LogisticRegression(C= 0.01, max_iter= 5000, solver= 'newton-cg')"
      ],
      "metadata": {
        "id": "zt3SjUf-hTOb"
      },
      "execution_count": null,
      "outputs": []
    },
    {
      "cell_type": "code",
      "source": [
        "logreg.fit(x_train, y_train)"
      ],
      "metadata": {
        "colab": {
          "base_uri": "https://localhost:8080/"
        },
        "id": "zVofCXgvhbNl",
        "outputId": "e8addd68-46d4-4153-d80d-c3fe31e0692b"
      },
      "execution_count": null,
      "outputs": [
        {
          "output_type": "execute_result",
          "data": {
            "text/plain": [
              "LogisticRegression(C=0.01, max_iter=5000, solver='newton-cg')"
            ]
          },
          "metadata": {},
          "execution_count": 41
        }
      ]
    },
    {
      "cell_type": "code",
      "execution_count": null,
      "metadata": {
        "colab": {
          "base_uri": "https://localhost:8080/"
        },
        "id": "4tNpMRsp8XGK",
        "outputId": "272f7916-8602-4a96-cfd5-df80da30e26a"
      },
      "outputs": [
        {
          "output_type": "stream",
          "name": "stdout",
          "text": [
            "---test---\n",
            "0.7808\n",
            "              precision    recall  f1-score   support\n",
            "\n",
            "          -1       0.79      0.85      0.82      2901\n",
            "           1       0.77      0.68      0.72      2099\n",
            "\n",
            "    accuracy                           0.78      5000\n",
            "   macro avg       0.78      0.77      0.77      5000\n",
            "weighted avg       0.78      0.78      0.78      5000\n",
            "\n",
            "---train---\n",
            "1.0\n",
            "              precision    recall  f1-score   support\n",
            "\n",
            "          -1       1.00      1.00      1.00       115\n",
            "           1       1.00      1.00      1.00        85\n",
            "\n",
            "    accuracy                           1.00       200\n",
            "   macro avg       1.00      1.00      1.00       200\n",
            "weighted avg       1.00      1.00      1.00       200\n",
            "\n"
          ]
        }
      ],
      "source": [
        "y_train_pred = logreg.predict(x_train)\n",
        "y_test_pred = logreg.predict(x_test)\n",
        "print('---test---')\n",
        "print(accuracy_score(y_test, y_test_pred))\n",
        "print(classification_report(y_test, y_test_pred))\n",
        "print('---train---')\n",
        "print(accuracy_score(y_train, y_train_pred))\n",
        "print(classification_report(y_train, y_train_pred))"
      ]
    },
    {
      "cell_type": "code",
      "source": [
        "auc_score = roc_auc_score(y_test,y_test_pred)\n",
        "auc_score"
      ],
      "metadata": {
        "colab": {
          "base_uri": "https://localhost:8080/"
        },
        "id": "sN2ejqlVkfIl",
        "outputId": "d70752c9-757d-4f88-e655-2ae2def7802e"
      },
      "execution_count": null,
      "outputs": [
        {
          "output_type": "execute_result",
          "data": {
            "text/plain": [
              "0.7675040674479515"
            ]
          },
          "metadata": {},
          "execution_count": 43
        }
      ]
    },
    {
      "cell_type": "code",
      "execution_count": null,
      "metadata": {
        "colab": {
          "base_uri": "https://localhost:8080/"
        },
        "id": "KNLZCYtDDpD1",
        "outputId": "46b25c31-3c84-418a-8951-6e70dd648659"
      },
      "outputs": [
        {
          "output_type": "stream",
          "name": "stdout",
          "text": [
            "error rate:  0.21919999999999995\n"
          ]
        }
      ],
      "source": [
        "print('error rate: ', 1-accuracy_score(y_test, y_test_pred))"
      ]
    },
    {
      "cell_type": "markdown",
      "metadata": {
        "id": "22wXTcOgu11i"
      },
      "source": [
        "## Black & White by area (eyes and eyebrow)"
      ]
    },
    {
      "cell_type": "code",
      "execution_count": null,
      "metadata": {
        "id": "aHgEqkX4u11j"
      },
      "outputs": [],
      "source": [
        "def predict_by_area_200(x1, x2, y1, y2):\n",
        "  train_img_array = onp.zeros((200, y2-y1, x2-x1))\n",
        "  for k in range(200):\n",
        "    im = imageio.imread(os.path.join(path, all_img[k])).astype(float)\n",
        "    im = im[y1:y2,x1:x2]\n",
        "    im = onp.mean(im, axis=2)\n",
        "    train_img_array[k,:,:] = im\n",
        "\n",
        "  test_img_array = onp.zeros((5000, y2-y1, x2-x1))\n",
        "  for k in range(15000, 20000):\n",
        "    im = imageio.imread(os.path.join(path, all_img[k])).astype(float)\n",
        "    im = im[y1:y2,x1:x2]\n",
        "    im = onp.mean(im, axis=2)\n",
        "    test_img_array[k-15000,:,:] = im\n",
        "\n",
        "  y_train=[]\n",
        "  for k in range(200):\n",
        "    y_train.insert(k,attribute[\"Male\"][k])\n",
        "  y_train=np.asarray(y_train)\n",
        "\n",
        "  y_test=[]\n",
        "  for l in range(15000,20000):\n",
        "    y_test.insert(l,attribute[\"Male\"][l])\n",
        "  y_test=np.asarray(y_test)\n",
        "\n",
        "  number_of_train = train_img_array.shape[0]\n",
        "  x_train_flatten = train_img_array.reshape(number_of_train,train_img_array.shape[1]*train_img_array.shape[2])\n",
        "\n",
        "  number_of_test = test_img_array.shape[0]\n",
        "  x_test_flatten = test_img_array.reshape(number_of_test,test_img_array.shape[1]*test_img_array.shape[2])\n",
        "  x_train = x_train_flatten\n",
        "  x_test = x_test_flatten\n",
        "  y_test = y_test.T\n",
        "  y_train = y_train.T\n",
        "\n",
        "  logreg = LogisticRegression(C= 1, max_iter= 5000, solver= 'liblinear')\n",
        "  logreg.fit(x_train, y_train)\n",
        "  y_train_pred = logreg.predict(x_train)\n",
        "  y_test_pred = logreg.predict(x_test)\n",
        "  print('Training accuracy: ', accuracy_score(y_train, y_train_pred))\n",
        "  print('Training AUC: ', roc_auc_score(y_train, y_train_pred))\n",
        "  print(classification_report(y_train, y_train_pred))\n",
        "  print('Test accuracy: ', accuracy_score(y_test, y_test_pred))\n",
        "  print('Test AUC: ', roc_auc_score(y_test, y_test_pred))\n",
        "  print(classification_report(y_test, y_test_pred))\n",
        "  return"
      ]
    },
    {
      "cell_type": "code",
      "source": [
        "print('Eyes area')\n",
        "predict_by_area_200(50,122,105,120)"
      ],
      "metadata": {
        "colab": {
          "base_uri": "https://localhost:8080/"
        },
        "id": "HqgJp1m-1hUs",
        "outputId": "be10dd10-7f2e-4eeb-ada0-52f700e1eb16"
      },
      "execution_count": null,
      "outputs": [
        {
          "output_type": "stream",
          "name": "stdout",
          "text": [
            "Eyes area\n",
            "Training accuracy:  1.0\n",
            "Training AUC:  1.0\n",
            "              precision    recall  f1-score   support\n",
            "\n",
            "          -1       1.00      1.00      1.00       115\n",
            "           1       1.00      1.00      1.00        85\n",
            "\n",
            "    accuracy                           1.00       200\n",
            "   macro avg       1.00      1.00      1.00       200\n",
            "weighted avg       1.00      1.00      1.00       200\n",
            "\n",
            "Test accuracy:  0.8396\n",
            "Test AUC:  0.8362203304572572\n",
            "              precision    recall  f1-score   support\n",
            "\n",
            "          -1       0.87      0.86      0.86      2901\n",
            "           1       0.81      0.82      0.81      2099\n",
            "\n",
            "    accuracy                           0.84      5000\n",
            "   macro avg       0.84      0.84      0.84      5000\n",
            "weighted avg       0.84      0.84      0.84      5000\n",
            "\n"
          ]
        }
      ]
    },
    {
      "cell_type": "code",
      "source": [
        "print('Eyebrow area')\n",
        "predict_by_area_200(50,122,95,109)"
      ],
      "metadata": {
        "colab": {
          "base_uri": "https://localhost:8080/"
        },
        "id": "8-xXD1gqC9FJ",
        "outputId": "19055cc9-30c0-49fb-f3cd-07320a8d8e2b"
      },
      "execution_count": null,
      "outputs": [
        {
          "output_type": "stream",
          "name": "stdout",
          "text": [
            "Eyebrow area\n",
            "Training accuracy:  1.0\n",
            "Training AUC:  1.0\n",
            "              precision    recall  f1-score   support\n",
            "\n",
            "          -1       1.00      1.00      1.00       115\n",
            "           1       1.00      1.00      1.00        85\n",
            "\n",
            "    accuracy                           1.00       200\n",
            "   macro avg       1.00      1.00      1.00       200\n",
            "weighted avg       1.00      1.00      1.00       200\n",
            "\n",
            "Test accuracy:  0.773\n",
            "Test AUC:  0.7600578499733709\n",
            "              precision    recall  f1-score   support\n",
            "\n",
            "          -1       0.78      0.84      0.81      2901\n",
            "           1       0.76      0.68      0.72      2099\n",
            "\n",
            "    accuracy                           0.77      5000\n",
            "   macro avg       0.77      0.76      0.76      5000\n",
            "weighted avg       0.77      0.77      0.77      5000\n",
            "\n"
          ]
        }
      ]
    },
    {
      "cell_type": "markdown",
      "source": [
        "## Colored and resolution 100×100"
      ],
      "metadata": {
        "id": "_HJJHqS5kG1f"
      }
    },
    {
      "cell_type": "code",
      "source": [
        "logreg = LogisticRegression(fit_intercept = False, solver = 'liblinear', C = 1, max_iter = 3000)\n",
        "\n",
        "train_img_array = onp.zeros((200, 100,100,3))\n",
        "for k in range(200):\n",
        "    im = imageio.imread(os.path.join(path, all_img[k])).astype(float)\n",
        "    im = resize(im, (100,100) )\n",
        "    train_img_array[k,:,:,:] = im\n",
        "test_img_array = onp.zeros((5000, 100,100,3))\n",
        "for l in range(15000,20000):\n",
        "    im2 = imageio.imread(os.path.join(path, all_img[l])).astype(float)\n",
        "    im2 = resize(im2, (100,100) )\n",
        "    test_img_array[l-15000,:,:,:] = im2\n",
        "\n",
        "\n",
        "y_train=[]\n",
        "for k in range(200):\n",
        "  y_train.insert(k,attribute[\"Male\"][k])\n",
        "y_train=np.asarray(y_train)\n",
        "\n",
        "y_test=[]\n",
        "for l in range(15000,20000):\n",
        "  y_test.insert(l,attribute[\"Male\"][l])\n",
        "y_test=np.asarray(y_test)\n",
        "\n",
        "number_of_train = train_img_array.shape[0]\n",
        "x_train_flatten = train_img_array.reshape(number_of_train,train_img_array.shape[1]*train_img_array.shape[2]*3)\n",
        "\n",
        "number_of_test = test_img_array.shape[0]\n",
        "x_test_flatten = test_img_array.reshape(number_of_test,test_img_array.shape[1]*test_img_array.shape[2]*3)\n",
        "\n",
        "x_train = x_train_flatten\n",
        "x_test = x_test_flatten\n",
        "y_test = y_test.T\n",
        "y_train = y_train.T\n",
        "\n",
        "model_log = logreg.fit(x_train, y_train)\n",
        "\n",
        "y_train_pred = logreg.predict(x_train)\n",
        "y_test_pred = logreg.predict(x_test)\n",
        "print(\"====================Train=============================\")\n",
        "mnb_score = accuracy_score(y_train, y_train_pred)\n",
        "auc_score = roc_auc_score(y_train,y_train_pred)\n",
        "print(mnb_score, auc_score)\n",
        "print(classification_report(y_train, y_train_pred))\n",
        "print(confusion_matrix(y_train, y_train_pred))\n",
        "print(\"====================Test=============================\")\n",
        "accuracy = accuracy_score(y_test, y_test_pred)\n",
        "auc_score = roc_auc_score(y_test,y_test_pred)\n",
        "print(accuracy, auc_score)\n",
        "print(classification_report(y_test, y_test_pred))\n",
        "print(confusion_matrix(y_test, y_test_pred))\n",
        "\n",
        "error_rate=1-accuracy\n",
        "print(\"test error rate:\" + str(error_rate))"
      ],
      "metadata": {
        "id": "XA03XrEwkYRQ"
      },
      "execution_count": null,
      "outputs": []
    },
    {
      "cell_type": "markdown",
      "metadata": {
        "id": "i-hz1XAqe6K_"
      },
      "source": [
        "## Augmentation"
      ]
    },
    {
      "cell_type": "code",
      "execution_count": null,
      "metadata": {
        "colab": {
          "base_uri": "https://localhost:8080/",
          "height": 287
        },
        "id": "gYMVksOhjk6Q",
        "outputId": "116eb4f7-cb0a-4781-998a-71bead59baa4"
      },
      "outputs": [
        {
          "output_type": "stream",
          "name": "stdout",
          "text": [
            "(218, 178, 1)\n"
          ]
        },
        {
          "output_type": "display_data",
          "data": {
            "text/plain": [
              "<Figure size 432x288 with 1 Axes>"
            ],
            "image/png": "[encoded data removed]"
          },
          "metadata": {
            "needs_background": "light"
          }
        }
      ],
      "source": [
        "img = load_img(os.path.join(path, all_img[0]), color_mode='grayscale')\n",
        "plt.imshow(img)\n",
        "img = img_to_array(img)\n",
        "print(img.shape)"
      ]
    },
    {
      "cell_type": "code",
      "source": [
        "img = resize(img, (100, 100))\n",
        "print(img.shape)\n",
        "plt.imshow(array_to_img(img))"
      ],
      "metadata": {
        "colab": {
          "base_uri": "https://localhost:8080/",
          "height": 303
        },
        "id": "cQsmBma05yeS",
        "outputId": "a124ca28-9e34-4a0f-cdd2-802d54d10cd0"
      },
      "execution_count": null,
      "outputs": [
        {
          "output_type": "stream",
          "name": "stdout",
          "text": [
            "(100, 100, 1)\n"
          ]
        },
        {
          "output_type": "execute_result",
          "data": {
            "text/plain": [
              "<matplotlib.image.AxesImage at 0x7f4f2baab790>"
            ]
          },
          "metadata": {},
          "execution_count": 49
        },
        {
          "output_type": "display_data",
          "data": {
            "text/plain": [
              "<Figure size 432x288 with 1 Axes>"
            ],
            "image/png": "[encoded data removed]"
          },
          "metadata": {
            "needs_background": "light"
          }
        }
      ]
    },
    {
      "cell_type": "code",
      "execution_count": null,
      "metadata": {
        "colab": {
          "base_uri": "https://localhost:8080/",
          "height": 269
        },
        "id": "cKAv6EBafcRj",
        "outputId": "0c58eafb-3787-41ed-cf2c-964534e0d89a"
      },
      "outputs": [
        {
          "output_type": "display_data",
          "data": {
            "text/plain": [
              "<Figure size 432x288 with 9 Axes>"
            ],
            "image/png": "[encoded data removed]"
          },
          "metadata": {
            "needs_background": "light"
          }
        }
      ],
      "source": [
        "img = load_img(os.path.join(path, all_img[1]), color_mode='grayscale')\n",
        "sample = img_to_array(img)\n",
        "sample = resize(sample, (100,100) )\n",
        "sample = expand_dims(sample, 0)\n",
        "datagen = ImageDataGenerator(rotation_range=20, horizontal_flip=True, height_shift_range=0.1,\n",
        "                             width_shift_range=0.2, brightness_range=(0.75,1.15),\n",
        "                             zoom_range=0.2)\n",
        "\n",
        "it = datagen.flow(sample, batch_size=1)\n",
        "\n",
        "for i in range(9):\n",
        "  plt.subplot(330 + 1 + i)\n",
        "  batch = it.next()\n",
        "  image = batch[0].astype('uint8')\n",
        "  img_to_array(image)\n",
        "  plt.imshow(array_to_img(image))\n",
        "plt.show()"
      ]
    },
    {
      "cell_type": "code",
      "source": [
        "datagen = ImageDataGenerator(rotation_range=20, horizontal_flip=True, height_shift_range=0.1,\n",
        "                             width_shift_range=0.2, brightness_range=(0.75,1.15),\n",
        "                             zoom_range=0.2)\n",
        "\n",
        "#augment each image 9 times\n",
        "train_img_array = onp.zeros((2000,100,100,1))\n",
        "for k in range(200):\n",
        "  im = load_img(os.path.join(path, all_img[i]),color_mode='grayscale')\n",
        "  im = img_to_array(im)\n",
        "  im = resize(im, (100,100) )\n",
        "  train_img_array[k*10,:,:,:] = im\n",
        "  sample = expand_dims(im, 0)\n",
        "\n",
        "  for i in range(9):\n",
        "    it = datagen.flow(sample, batch_size=1)\n",
        "    batch = it.next()\n",
        "    image = batch[0].astype('uint8')\n",
        "    image = img_to_array(image)\n",
        "    train_img_array[k*10 + i + 1,:,:,:] = image\n",
        "\n",
        "\n",
        "test_img_array = onp.zeros((5000,100,100,1))\n",
        "for l in range(15000,20000):\n",
        "  im = load_img(os.path.join(path, all_img[l]),color_mode='grayscale')\n",
        "  im = img_to_array(im)\n",
        "  im = resize(im, (100,100) )\n",
        "  test_img_array[l-15000,:,:,:] = im"
      ],
      "metadata": {
        "id": "q-y7aaYH3r-Q"
      },
      "execution_count": null,
      "outputs": []
    },
    {
      "cell_type": "code",
      "source": [
        "ls = [1]\n",
        "ls.extend([attribute[\"Male\"][0]]*10)\n",
        "ls"
      ],
      "metadata": {
        "colab": {
          "base_uri": "https://localhost:8080/"
        },
        "id": "lOmoEHNTEZ7O",
        "outputId": "85f1ca93-b4c9-4431-8a90-fb0df26c5d51"
      },
      "execution_count": null,
      "outputs": [
        {
          "output_type": "execute_result",
          "data": {
            "text/plain": [
              "[1, -1, -1, -1, -1, -1, -1, -1, -1, -1, -1]"
            ]
          },
          "metadata": {},
          "execution_count": 52
        }
      ]
    },
    {
      "cell_type": "code",
      "source": [
        "y_train=[]\n",
        "for k in range(200):\n",
        "  labels = [attribute[\"Male\"][k]]*10\n",
        "  y_train.extend(labels)\n",
        "y_train = np.asarray(y_train)"
      ],
      "metadata": {
        "id": "gLkuPDGYBv7J"
      },
      "execution_count": null,
      "outputs": []
    },
    {
      "cell_type": "code",
      "source": [
        "y_train.shape"
      ],
      "metadata": {
        "colab": {
          "base_uri": "https://localhost:8080/"
        },
        "id": "EsFcMK0HEzHu",
        "outputId": "0a14b46f-102b-449d-b6c4-ce3019b21bac"
      },
      "execution_count": null,
      "outputs": [
        {
          "output_type": "execute_result",
          "data": {
            "text/plain": [
              "(2000,)"
            ]
          },
          "metadata": {},
          "execution_count": 54
        }
      ]
    },
    {
      "cell_type": "code",
      "source": [
        "y_test=[]\n",
        "for l in range(15000,20000):\n",
        "  y_test.insert(l,attribute[\"Male\"][l])\n",
        "y_test=np.asarray(y_test)"
      ],
      "metadata": {
        "id": "-CS0-pfnBv9W"
      },
      "execution_count": null,
      "outputs": []
    },
    {
      "cell_type": "code",
      "execution_count": null,
      "metadata": {
        "id": "Lswi0zBQHom9"
      },
      "outputs": [],
      "source": [
        "number_of_train = train_img_array.shape[0]\n",
        "x_train_flatten = train_img_array.reshape(number_of_train,train_img_array.shape[1]*train_img_array.shape[2])"
      ]
    },
    {
      "cell_type": "code",
      "execution_count": null,
      "metadata": {
        "id": "KCXnQimcGidP"
      },
      "outputs": [],
      "source": [
        "number_of_test = test_img_array.shape[0]\n",
        "x_test_flatten = test_img_array.reshape(number_of_test,test_img_array.shape[1]*test_img_array.shape[2])"
      ]
    },
    {
      "cell_type": "code",
      "execution_count": null,
      "metadata": {
        "id": "4EhM63L2Hsxd"
      },
      "outputs": [],
      "source": [
        "x_train = x_train_flatten\n",
        "x_test = x_test_flatten\n",
        "y_test = y_test.T\n",
        "y_train = y_train.T"
      ]
    },
    {
      "cell_type": "code",
      "execution_count": null,
      "metadata": {
        "id": "3FYvXbnMHuu3",
        "colab": {
          "base_uri": "https://localhost:8080/"
        },
        "outputId": "d6dd4a25-ec9b-4719-fa62-fd4c019168bc"
      },
      "outputs": [
        {
          "output_type": "execute_result",
          "data": {
            "text/plain": [
              "(2000, 10000)"
            ]
          },
          "metadata": {},
          "execution_count": 59
        }
      ],
      "source": [
        "x_train_flatten.shape"
      ]
    },
    {
      "cell_type": "code",
      "execution_count": null,
      "metadata": {
        "id": "2cKgV0IXHusz",
        "colab": {
          "base_uri": "https://localhost:8080/"
        },
        "outputId": "d568bd88-e00f-4dc2-caaa-46b896ec09c5"
      },
      "outputs": [
        {
          "output_type": "execute_result",
          "data": {
            "text/plain": [
              "(2000,)"
            ]
          },
          "metadata": {},
          "execution_count": 60
        }
      ],
      "source": [
        "y_train.shape"
      ]
    },
    {
      "cell_type": "code",
      "execution_count": null,
      "metadata": {
        "id": "MwPEvK9Y2ynV",
        "colab": {
          "base_uri": "https://localhost:8080/"
        },
        "outputId": "d6af9c53-ef58-4491-f9e9-aa2f74c90914"
      },
      "outputs": [
        {
          "output_type": "execute_result",
          "data": {
            "text/plain": [
              "LogisticRegression(max_iter=5000)"
            ]
          },
          "metadata": {},
          "execution_count": 61
        }
      ],
      "source": [
        "logreg = LogisticRegression(max_iter = 5000)\n",
        "logreg.fit(x_train, y_train)"
      ]
    },
    {
      "cell_type": "code",
      "execution_count": null,
      "metadata": {
        "id": "9JSj7awHyrpb",
        "colab": {
          "base_uri": "https://localhost:8080/"
        },
        "outputId": "49c6d14f-1ef1-4221-f494-2ead51caf7d0"
      },
      "outputs": [
        {
          "output_type": "stream",
          "name": "stdout",
          "text": [
            "====================Train=============================\n",
            "0.9575 0.95\n",
            "              precision    recall  f1-score   support\n",
            "\n",
            "          -1       0.93      1.00      0.96      1150\n",
            "           1       1.00      0.90      0.95       850\n",
            "\n",
            "    accuracy                           0.96      2000\n",
            "   macro avg       0.97      0.95      0.96      2000\n",
            "weighted avg       0.96      0.96      0.96      2000\n",
            "\n",
            "[[1150    0]\n",
            " [  85  765]]\n",
            "====================Test=============================\n",
            "0.5598 0.5347081775451911\n",
            "              precision    recall  f1-score   support\n",
            "\n",
            "          -1       0.61      0.69      0.65      2901\n",
            "           1       0.47      0.38      0.42      2099\n",
            "\n",
            "    accuracy                           0.56      5000\n",
            "   macro avg       0.54      0.53      0.53      5000\n",
            "weighted avg       0.55      0.56      0.55      5000\n",
            "\n",
            "[[2005  896]\n",
            " [1305  794]]\n"
          ]
        }
      ],
      "source": [
        "y_train_pred = logreg.predict(x_train)\n",
        "y_test_pred = logreg.predict(x_test)\n",
        "print(\"====================Train=============================\")\n",
        "mnb_score = accuracy_score(y_train, y_train_pred)\n",
        "auc_score = roc_auc_score(y_train,y_train_pred)\n",
        "print(mnb_score, auc_score)\n",
        "print(classification_report(y_train, y_train_pred))\n",
        "print(confusion_matrix(y_train, y_train_pred))\n",
        "print(\"====================Test=============================\")\n",
        "mnb_score = accuracy_score(y_test, y_test_pred)\n",
        "auc_score = roc_auc_score(y_test,y_test_pred)\n",
        "print(mnb_score, auc_score)\n",
        "print(classification_report(y_test, y_test_pred))\n",
        "print(confusion_matrix(y_test, y_test_pred))"
      ]
    },
    {
      "cell_type": "markdown",
      "source": [
        "##Ensemble with 1% data"
      ],
      "metadata": {
        "id": "PYqBjiM2QcIj"
      }
    },
    {
      "cell_type": "code",
      "source": [
        "def predict_by_part_200(x1, x2, y1, y2):\n",
        "  train_img_array = onp.zeros((200, y2-y1, x2-x1))\n",
        "  for k in range(200):\n",
        "    im = imageio.imread(os.path.join(path, all_img[k])).astype(float)\n",
        "    im = im[y1:y2,x1:x2]\n",
        "    im = onp.mean(im, axis=2)\n",
        "    train_img_array[k,:,:] = im\n",
        "\n",
        "  test_img_array = onp.zeros((5000, y2-y1, x2-x1))\n",
        "  for k in range(15000, 20000):\n",
        "    im = imageio.imread(os.path.join(path, all_img[k])).astype(float)\n",
        "    im = im[y1:y2,x1:x2]\n",
        "    im = onp.mean(im, axis=2)\n",
        "    test_img_array[k-15000,:,:] = im\n",
        "\n",
        "  y_train=[]\n",
        "  for k in range(200):\n",
        "    y_train.insert(k,attribute[\"Male\"][k])\n",
        "  y_train=np.asarray(y_train)\n",
        "\n",
        "  y_test=[]\n",
        "  for l in range(15000,20000):\n",
        "    y_test.insert(l,attribute[\"Male\"][l])\n",
        "  y_test=np.asarray(y_test)\n",
        "\n",
        "  number_of_train = train_img_array.shape[0]\n",
        "  x_train_flatten = train_img_array.reshape(number_of_train,train_img_array.shape[1]*train_img_array.shape[2])\n",
        "\n",
        "  number_of_test = test_img_array.shape[0]\n",
        "  x_test_flatten = test_img_array.reshape(number_of_test,test_img_array.shape[1]*test_img_array.shape[2])\n",
        "  x_train = x_train_flatten\n",
        "  x_test = x_test_flatten\n",
        "  y_test = y_test.T\n",
        "  y_train = y_train.T\n",
        "\n",
        "  logreg = LogisticRegression(C= 1, max_iter= 5000, solver= 'liblinear')\n",
        "  logreg.fit(x_train, y_train)\n",
        "  y_train_pred = logreg.predict(x_train)\n",
        "  y_test_pred = logreg.predict(x_test)\n",
        "  print('Training accuracy: ', accuracy_score(y_train, y_train_pred))\n",
        "  print('Training AUC: ', roc_auc_score(y_train, y_train_pred))\n",
        "  print(classification_report(y_train, y_train_pred))\n",
        "  print('Test accuracy: ', accuracy_score(y_test, y_test_pred))\n",
        "  print('Test AUC: ', roc_auc_score(y_test, y_test_pred))\n",
        "  print(classification_report(y_test, y_test_pred))\n",
        "  return"
      ],
      "metadata": {
        "id": "JMIm9w3RQhuq"
      },
      "execution_count": null,
      "outputs": []
    },
    {
      "cell_type": "code",
      "source": [
        "def predict_by_part_200_result(x1, x2, y1, y2):\n",
        "  train_img_array = onp.zeros((200, y2-y1, x2-x1))\n",
        "  for k in range(200):\n",
        "    im = imageio.imread(os.path.join(path, all_img[k])).astype(float)\n",
        "    im = im[y1:y2,x1:x2]\n",
        "    im = onp.mean(im, axis=2)\n",
        "    train_img_array[k,:,:] = im\n",
        "\n",
        "  test_img_array = onp.zeros((5000, y2-y1, x2-x1))\n",
        "  for k in range(15000, 20000):\n",
        "    im = imageio.imread(os.path.join(path, all_img[k])).astype(float)\n",
        "    im = im[y1:y2,x1:x2]\n",
        "    im = onp.mean(im, axis=2)\n",
        "    test_img_array[k-15000,:,:] = im\n",
        "\n",
        "  y_train=[]\n",
        "  for k in range(200):\n",
        "    y_train.insert(k,attribute[\"Male\"][k])\n",
        "  y_train=np.asarray(y_train)\n",
        "\n",
        "  y_test=[]\n",
        "  for l in range(15000,20000):\n",
        "    y_test.insert(l,attribute[\"Male\"][l])\n",
        "  y_test=np.asarray(y_test)\n",
        "\n",
        "  number_of_train = train_img_array.shape[0]\n",
        "  x_train_flatten = train_img_array.reshape(number_of_train,train_img_array.shape[1]*train_img_array.shape[2])\n",
        "\n",
        "  number_of_test = test_img_array.shape[0]\n",
        "  x_test_flatten = test_img_array.reshape(number_of_test,test_img_array.shape[1]*test_img_array.shape[2])\n",
        "  x_train = x_train_flatten\n",
        "  x_test = x_test_flatten\n",
        "  y_test = y_test.T\n",
        "  y_train = y_train.T\n",
        "\n",
        "  logreg = LogisticRegression(C= 1, max_iter= 5000, solver= 'liblinear')\n",
        "  logreg.fit(x_train, y_train)\n",
        "  y_train_pred = logreg.predict(x_train)\n",
        "  y_test_pred = logreg.predict(x_test)\n",
        "  return (y_train_pred,y_test_pred)"
      ],
      "metadata": {
        "id": "_EELVXt8Q0Xt"
      },
      "execution_count": null,
      "outputs": []
    },
    {
      "cell_type": "code",
      "source": [
        "eye_train_pred=predict_by_part_200_result(50,122,105,120)[0]\n",
        "eye_test_pred=predict_by_part_200_result(50,122,105,120)[1]\n",
        "eyebrow_train_pred=predict_by_part_200_result(50,122,95,109)[0]\n",
        "eyebrow_test_pred=predict_by_part_200_result(50,122,95,109)[1]\n",
        "nose_train_pred=predict_by_part_200_result(119,145,70,110)[0]\n",
        "nose_test_pred=predict_by_part_200_result(119,145,70,110)[1]"
      ],
      "metadata": {
        "id": "BCvO9xvGRQ2U"
      },
      "execution_count": null,
      "outputs": []
    },
    {
      "cell_type": "code",
      "source": [
        "ensemble_train_pred=1*eye_train_pred+1*eyebrow_train_pred+1*nose_train_pred\n",
        "for i in range(0,200):\n",
        "  if ensemble_train_pred[i]>0:\n",
        "    ensemble_train_pred[i]=1\n",
        "  else:\n",
        "    ensemble_train_pred[i]=-1\n",
        "ensemble_test_pred=0.6*eye_test_pred+0.64*eyebrow_test_pred+0.56*nose_test_pred\n",
        "for i in range(0,5000):\n",
        "  if ensemble_test_pred[i]>0:\n",
        "    ensemble_test_pred[i]=1\n",
        "  else:\n",
        "    ensemble_test_pred[i]=-1"
      ],
      "metadata": {
        "id": "uC3cry00RUdD"
      },
      "execution_count": null,
      "outputs": []
    },
    {
      "cell_type": "code",
      "source": [
        "y_train=[]\n",
        "for l in range(200):\n",
        "  y_train.insert(l,attribute[\"Male\"][l])\n",
        "y_train=np.asarray(y_train)\n",
        "print('Train accuracy: ', accuracy_score(y_train, ensemble_train_pred))\n",
        "print('Train AUC: ', roc_auc_score(y_train, ensemble_train_pred))"
      ],
      "metadata": {
        "id": "KbfWchQJRc9Q",
        "colab": {
          "base_uri": "https://localhost:8080/"
        },
        "outputId": "5c601cc0-fd15-4b46-ae18-faabdac8cf0a"
      },
      "execution_count": null,
      "outputs": [
        {
          "output_type": "stream",
          "name": "stdout",
          "text": [
            "Train accuracy:  1.0\n",
            "Test AUC:  1.0\n"
          ]
        }
      ]
    },
    {
      "cell_type": "code",
      "source": [
        "y_test=[]\n",
        "for l in range(15000,20000):\n",
        "  y_test.insert(l,attribute[\"Male\"][l])\n",
        "y_test=np.asarray(y_test)\n",
        "print('Test accuracy: ', accuracy_score(y_test, ensemble_test_pred))\n",
        "print('Test AUC: ', roc_auc_score(y_test, ensemble_test_pred))"
      ],
      "metadata": {
        "id": "npSdwX3JRdqk",
        "colab": {
          "base_uri": "https://localhost:8080/"
        },
        "outputId": "b9a42472-2316-4c5a-9b4c-ab8ac9a7cbfc"
      },
      "execution_count": null,
      "outputs": [
        {
          "output_type": "stream",
          "name": "stdout",
          "text": [
            "Test accuracy:  0.8096\n",
            "Test AUC:  0.8012792815606782\n"
          ]
        }
      ]
    }
  ]
}